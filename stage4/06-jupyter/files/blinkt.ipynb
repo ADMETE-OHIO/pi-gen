{
 "cells": [
  {
   "cell_type": "markdown",
   "source": [
    "# Running Blinkt programs on your Raspberry Pi Zero W\n",
    "\n",
    "This tutorial will show you how to control the eight LED elements on the *Blinkt!* add-on board. Note: this is available on selected kits only.\n",
    "\n",
    "First, we initialize the board and set the brightness of the LEDs to 0.1, which is actually quite bright!"
   ],
   "metadata": {
    "collapsed": false,
    "pycharm": {
     "name": "#%% md\n"
    }
   }
  },
  {
   "cell_type": "code",
   "execution_count": null,
   "metadata": {
    "collapsed": true,
    "pycharm": {
     "name": "#%%\n"
    }
   },
   "outputs": [],
   "source": [
    "from blinkt import set_pixel, set_brightness, show, clear\n",
    "\n",
    "set_brightness(0.1)"
   ]
  },
  {
   "cell_type": "markdown",
   "source": [
    "Next, we clear any existing signals on the Blinkt! We do this by calling the `clear` function."
   ],
   "metadata": {
    "collapsed": false
   }
  },
  {
   "cell_type": "code",
   "execution_count": null,
   "outputs": [],
   "source": [
    "clear()"
   ],
   "metadata": {
    "collapsed": false,
    "pycharm": {
     "name": "#%%\n"
    }
   }
  },
  {
   "cell_type": "markdown",
   "source": [
    "Let's set the leftmost LED to white. We can do this by calling `set_pixel` with four arguments. The first one is a number from 0 through 7 which represents each of the eight LEDs. It is common to start numbering from 0 instead of 1 in many programming environments.\n",
    "\n",
    "The next three numbers represent the RGB values of the color to be displayed. As you may know, each visible color can be considered the mixture of red (R), green (G), and blue (B) colors. When you mix these colors in different proportions, you get different colors! The amount of each color is indicated by a number in the range 0 through 255. This choice of numbers isn't arbitrary: the total number of choices, 256, is a power of 2 ($2^8 = 256$). Again, it is quite common to deal with numbers that are powers of two in programming.\n",
    "\n",
    "To represent white, we need the maximum and equal amounts of R, G and B colors. So, we select 255 for each of R, G and B. If we had selected the minimum (0), we would get black!"
   ],
   "metadata": {
    "collapsed": false
   }
  },
  {
   "cell_type": "code",
   "execution_count": null,
   "outputs": [],
   "source": [
    "set_pixel(0, 255, 255, 255)"
   ],
   "metadata": {
    "collapsed": false,
    "pycharm": {
     "name": "#%%\n"
    }
   }
  },
  {
   "cell_type": "markdown",
   "source": [
    "The LED isn't likely to be showing white now. That's because we need to call the `show` function to actually apply the colors to the LEDs. Let's do that now:"
   ],
   "metadata": {
    "collapsed": false
   }
  },
  {
   "cell_type": "code",
   "execution_count": null,
   "outputs": [],
   "source": [
    "show()\n"
   ],
   "metadata": {
    "collapsed": false,
    "pycharm": {
     "name": "#%%\n"
    }
   }
  },
  {
   "cell_type": "markdown",
   "source": [
    "Great! We see that the leftmost LED is white - but it's really a mixture of red, green and blue in equal (and maximum) amounts.\n",
    "\n",
    "Now, let's do a little exercise: can you change the `set_pixel` function below to set the leftmost LED to red? Remember that the first argument to the function is the position of the LED, the next three (in order) are the red, green, and blue numbers."
   ],
   "metadata": {
    "collapsed": false
   }
  },
  {
   "cell_type": "code",
   "execution_count": null,
   "outputs": [],
   "source": [
    "set_pixel(?,?,?,?)\n",
    "show()"
   ],
   "metadata": {
    "collapsed": false,
    "pycharm": {
     "name": "#%%\n"
    }
   }
  },
  {
   "cell_type": "markdown",
   "source": [
    "Great! Feel free to edit the above code to change the LED position, and choose a color for each LED. You can always press the Stop button on the top toolbar on this page to halt any program running on the Blinkt.\n",
    "\n",
    "Now, let's automate things a little. Can we write code to turn on each LED in sequence? We can do this using a `for` loop, and setting the loop index `i` to take on values in sequence from 0 through 7. Note that `range (8)` returns the set of numbers 0 through 7 and excludes the argument 8.\n",
    "\n",
    "In the body of the loop, we first clear any signals to the LEDs using the `clear()` function. Next, we use the `set_pixel` function to set the $i^{th}$ LED to green. Then we call the `show` function to actually send the signal to the LED.\n",
    "\n",
    "But hang on, if we move through the LEDs too quickly, we won't be able to see the colors! So, we can add a *delay* between LEDs turning on, using the `time.sleep` function. The argument to this function is the amount of time to sleep, in seconds. Let's set the delay to 0.2 seconds for now.\n",
    "\n",
    "Go ahead, run the code!"
   ],
   "metadata": {
    "collapsed": false,
    "pycharm": {
     "name": "#%% md\n"
    }
   }
  },
  {
   "cell_type": "code",
   "execution_count": null,
   "outputs": [],
   "source": [
    "import time\n",
    "\n",
    "for i in range(8):\n",
    "    clear()\n",
    "    set_pixel(i, 0, 255, 0)\n",
    "    show()\n",
    "    time.sleep(0.2)"
   ],
   "metadata": {
    "collapsed": false,
    "pycharm": {
     "name": "#%%\n"
    }
   }
  },
  {
   "cell_type": "markdown",
   "source": [
    "This concludes the brief tutorial. Feel free to play with the above code snippets, and write your own too.\n",
    "\n",
    "There are many more examples in the \"blinkt-examples\" folder on the Desktop. Just double-click on a script to run the program. Each program will run for one or two iterations and then stop."
   ],
   "metadata": {
    "collapsed": false
   }
  }
 ],
 "metadata": {
  "kernelspec": {
   "display_name": "Python 3",
   "language": "python",
   "name": "python3"
  },
  "language_info": {
   "codemirror_mode": {
    "name": "ipython",
    "version": 2
   },
   "file_extension": ".py",
   "mimetype": "text/x-python",
   "name": "python",
   "nbconvert_exporter": "python",
   "pygments_lexer": "ipython2",
   "version": "2.7.6"
  }
 },
 "nbformat": 4,
 "nbformat_minor": 0
}