{
 "cells": [
  {
   "cell_type": "markdown",
   "metadata": {
    "collapsed": true,
    "pycharm": {
     "name": "#%% md\n"
    }
   },
   "source": [
    "# The One Time Pad cipher\n",
    "\n",
    "This is a very simple cipher where the cleartext is bitwise XORed with the key to form the ciphertext. When the same key is used to decrypt the ciphertext, we get back the plaintext. XOR is one of the most fundamental logic operation that takes as input two bits, and outputs one bit. The truth table is:\n",
    "\n",
    "| A | B | Y = A XOR B |\n",
    "| - | - | :-----------: |\n",
    "| 0 | 0 | 0 |\n",
    "| 0 | 1 | 1 |\n",
    "| 1 | 0 | 1 |\n",
    "| 1 | 1 | 0 |\n",
    "\n",
    "In Python, the symbol for the XOR operation is `^`."
   ]
  },
  {
   "cell_type": "code",
   "execution_count": null,
   "outputs": [],
   "source": [
    "print(0^0)\n",
    "print(0^1)\n",
    "print(1^0)\n",
    "print(1^1)"
   ],
   "metadata": {
    "collapsed": false,
    "pycharm": {
     "name": "#%%\n"
    }
   }
  },
  {
   "cell_type": "markdown",
   "source": [
    "## Encryption\n",
    "\n",
    "Let us use the BitVector library to implement the One Time Pad cipher. First, we need to choose a plaintext, and convert it to bits using an encoding scheme."
   ],
   "metadata": {
    "collapsed": false,
    "pycharm": {
     "name": "#%% md\n"
    }
   }
  },
  {
   "cell_type": "code",
   "execution_count": null,
   "outputs": [],
   "source": [
    "from BitVector import BitVector\n",
    "plaintext = BitVector(textstring=\"hello\")\n",
    "print(plaintext)\n",
    "print(plaintext.get_hex_string_from_bitvector())"
   ],
   "metadata": {
    "collapsed": false,
    "pycharm": {
     "name": "#%%\n"
    }
   }
  },
  {
   "cell_type": "markdown",
   "source": [
    "Next, we will need a key. Because of how OTP works, the key needs to be the same length as the plaintext."
   ],
   "metadata": {
    "collapsed": false
   }
  },
  {
   "cell_type": "code",
   "execution_count": null,
   "outputs": [],
   "source": [
    "otp_key = BitVector(size=plaintext.size)\n",
    "otp_key = otp_key.gen_random_bits(otp_key.size)\n",
    "print(otp_key)\n",
    "print(otp_key.get_hex_string_from_bitvector())"
   ],
   "metadata": {
    "collapsed": false,
    "pycharm": {
     "name": "#%%\n"
    }
   }
  },
  {
   "cell_type": "markdown",
   "source": [
    "We are now ready to encrypt the plaintext. All we have to do is XOR the two BitVectors!"
   ],
   "metadata": {
    "collapsed": false
   }
  },
  {
   "cell_type": "code",
   "execution_count": null,
   "outputs": [],
   "source": [
    "ciphertext = plaintext ^ otp_key\n",
    "print(ciphertext)\n",
    "print(ciphertext.get_hex_string_from_bitvector())\n",
    "print(ciphertext.get_bitvector_in_ascii())"
   ],
   "metadata": {
    "collapsed": false,
    "pycharm": {
     "name": "#%%\n"
    }
   }
  },
  {
   "cell_type": "markdown",
   "source": [
    "As we can see, the ciphertext is a jumble of symbols!\n",
    "\n",
    "## Decryption\n",
    "\n",
    "Decryption is equally simple - we just XOR the *same key* with the ciphertext!"
   ],
   "metadata": {
    "collapsed": false
   }
  },
  {
   "cell_type": "code",
   "execution_count": null,
   "outputs": [],
   "source": [
    "decrypted = ciphertext ^ otp_key\n",
    "print(decrypted)\n",
    "print(decrypted.get_hex_string_from_bitvector())\n",
    "print(decrypted.get_bitvector_in_ascii())"
   ],
   "metadata": {
    "collapsed": false,
    "pycharm": {
     "name": "#%%\n"
    }
   }
  },
  {
   "cell_type": "markdown",
   "source": [
    "We get back the original plaintext! What happens when an adversary Trudy tries to decrypt the ciphertext? Because the key is not known to anyone else other than Alice and Bob, Trudy has to guess the key, which means that she chooses a random set of bits as the key."
   ],
   "metadata": {
    "collapsed": false
   }
  },
  {
   "cell_type": "code",
   "execution_count": null,
   "outputs": [],
   "source": [
    "trudy_key = BitVector(size=ciphertext.size)\n",
    "trudy_key = trudy_key.gen_random_bits(trudy_key.size)\n",
    "\n",
    "trudy_plaintext = ciphertext ^ trudy_key\n",
    "print(trudy_plaintext)\n",
    "print(trudy_plaintext.get_hex_string_from_bitvector())\n",
    "print(trudy_plaintext.get_bitvector_in_ascii())"
   ],
   "metadata": {
    "collapsed": false,
    "pycharm": {
     "name": "#%%\n"
    }
   }
  },
  {
   "cell_type": "markdown",
   "source": [
    "Trudy is unable to get the original plaintext! How difficult is it for Trudy to guess the key? What are the chances? It is `1` divided by the number of possible keys, which in turn is two (because it's in binary) raised to the length of the key in bits. To find out:"
   ],
   "metadata": {
    "collapsed": false,
    "pycharm": {
     "name": "#%% md\n"
    }
   }
  },
  {
   "cell_type": "code",
   "execution_count": null,
   "outputs": [],
   "source": [
    "size = trudy_key.size\n",
    "tot_keys = pow(2, size)\n",
    "chance = 1/tot_keys\n",
    "\n",
    "print(size, tot_keys, chance)"
   ],
   "metadata": {
    "collapsed": false,
    "pycharm": {
     "name": "#%%\n"
    }
   }
  },
  {
   "cell_type": "markdown",
   "source": [
    "We see that for just five ASCII characters, the number of bits is `8*5=40`, which means that the chance that Trudy can guess the key correctly is about one in one trillion! More importantly, there is *no other way* that Trudy can improve her chances of guessing the correct key. OTP is indeed a very strong cipher, provided that the key is not reused.\n",
    "\n",
    "## Brute forcing OTP\n",
    "\n",
    "TBD - how to know if decrypted output is right?\n",
    "\n",
    "# Exercises\n",
    "- Plot a graph of time taken to brute force OTP versus key length, where key length varies from 4 through 16 in steps of 1. Do not bother about whether the decrypted output is valid, simply measure the time taken to iterate through all possibilities.\n"
   ],
   "metadata": {
    "collapsed": false
   }
  }
 ],
 "metadata": {
  "kernelspec": {
   "display_name": "Python 3",
   "language": "python",
   "name": "python3"
  },
  "language_info": {
   "codemirror_mode": {
    "name": "ipython",
    "version": 2
   },
   "file_extension": ".py",
   "mimetype": "text/x-python",
   "name": "python",
   "nbconvert_exporter": "python",
   "pygments_lexer": "ipython2",
   "version": "2.7.6"
  }
 },
 "nbformat": 4,
 "nbformat_minor": 0
}