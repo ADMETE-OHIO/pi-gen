{
 "cells": [
  {
   "cell_type": "markdown",
   "id": "regulation-formula",
   "metadata": {},
   "source": [
    "# Cryptocurrency Proof-of-Work\n",
    "\n",
    "### The purpose this excercise is to explain how the SHA-256 algorithm is used to implement the adjustable difficulty protocol for Bitcoin.\n",
    "\n",
    "### In this exercise we will:\n",
    "\n",
    "<ul>\n",
    "<li>Hash a number using SHA-256.</li>\n",
    "<li>Plot the (roughly) linear distribution of the SHA-256 Function.</li>\n",
    "<li>Find a value that, when hashed, passes the <a href=\"https://en.wikipedia.org/wiki/Proof_of_work\">proof-of-work</a> difficulty criterion.</li>\n",
    "<li>Plot the likelihood of finding a successful nonce for several values.</li>\n",
    "</ul>"
   ]
  },
  {
   "cell_type": "markdown",
   "id": "senior-alloy",
   "metadata": {},
   "source": [
    "In this excerise we examine a function crucial to the proof-of-work process in <a href=\"https://en.wikipedia.org/wiki/Bitcoin\">Bitcoin</a>, the SHA-256 function.  SHA-256 is a one-way hashing function, that is, given a number A, the function will produce a number B, but given number B, there is (currently) no way to determine number A (without trying all possible numbers from 0 to $2^{256}$).\n",
    "\n",
    "Try it yourself.  Assign a value to _X_, and see what number you get out!"
   ]
  },
  {
   "cell_type": "code",
   "execution_count": null,
   "id": "driving-glasgow",
   "metadata": {},
   "outputs": [],
   "source": [
    "from hashlib import sha256\n",
    "\n",
    "#change the number you want to hash here!\n",
    "X = 3\n",
    "#change the number you want to hash here!\n",
    "\n",
    "hashedWord = sha256(X.to_bytes(16,'little'));\n",
    "print(int(hashedWord.hexdigest(),16))"
   ]
  },
  {
   "cell_type": "markdown",
   "id": "fancy-pacific",
   "metadata": {},
   "source": [
    "If you only tried one number, go back and change the value of X and try it again.  You'll see that a very small change produces a very different number (this is called the <a href=\"https://en.wikipedia.org/wiki/Avalanche_effect\">Avalanche Effect</a>)."
   ]
  },
  {
   "cell_type": "markdown",
   "id": "quality-filing",
   "metadata": {},
   "source": [
    "Next, let's see if numbers that are hashed are evenly distributed.  Trying 10,000 numbers by hand would take a long time, so let's use a loop."
   ]
  },
  {
   "cell_type": "code",
   "execution_count": null,
   "id": "individual-vegetable",
   "metadata": {},
   "outputs": [],
   "source": [
    "%matplotlib inline\n",
    "import matplotlib.pyplot as plt\n",
    "\n",
    "x = []\n",
    "for i in range(0,10000):    \n",
    "    hashobj = sha256(i.to_bytes(16,'little'))\n",
    "    val_hex = hashobj.hexdigest()\n",
    "    val_int = int(val_hex, 16)\n",
    "    x.append(val_int / 1)\n",
    "    \n",
    "#plot a historgram of number of attempts for each case\n",
    "num_bins = 5\n",
    "n, bins, patches = plt.hist(x, num_bins, facecolor='blue', alpha=0.5)\n",
    "plt.show()\n"
   ]
  },
  {
   "cell_type": "markdown",
   "id": "suspended-disclaimer",
   "metadata": {},
   "source": [
    "This (roughly) linear distribution means that when you pick a number, it has an equal likelihood of being any other number in the range 0 to $2^{256}$.  The Bitcoin proof-of-work process has an adjustable difficulty based on the current amount of mining, so a Bitcoin miner's job is to find a number called, in this context, a _nonce_ to add to A to get a resulting B less than the difficulty value.  We will set our difficulty value at $2^{253}$; the smaller the difficulty value, the harder it is to find a find a valid nonce, so this value is quite easy.  Try out a few numbers by changing the value of X and see if you can find one that hashes to less than $2^{253}$!"
   ]
  },
  {
   "cell_type": "code",
   "execution_count": null,
   "id": "smart-arbitration",
   "metadata": {},
   "outputs": [],
   "source": [
    "from hashlib import sha256\n",
    "%matplotlib inline\n",
    "import matplotlib.pyplot as plt\n",
    "\n",
    "#change the number you want to hash here!\n",
    "X = 0\n",
    "#change the number you want to hash here!\n",
    "\n",
    "hashedWord = sha256(X.to_bytes(16,'little'));\n",
    "val_hex = hashedWord.hexdigest()\n",
    "val_int = int(val_hex, 16)\n",
    "\n",
    "power=253\n",
    "print(\"Your value: \" + str(val_int))\n",
    "print(\"Difficulty: \" + str(2**power))\n",
    "if( val_int < 2**power):\n",
    "    print( \"SHA256(\" + str(X) + \") is less than 2^\" + str(power) + \"!\")\n",
    "else:\n",
    "    print( \"SHA256(\" + str(X) + \") is not less than 2^\" + str(power) + \".\")"
   ]
  },
  {
   "cell_type": "markdown",
   "id": "administrative-slovenia",
   "metadata": {},
   "source": [
    "I bet it took you several attempts to find a number that generate a value less than $2^{253}$.  Let's use a loop again to see how many attempts it takes to find a nonce for a random number to get a value less than $2^{250}$.  This may take a few seconds to run."
   ]
  },
  {
   "cell_type": "code",
   "execution_count": null,
   "id": "coordinated-christian",
   "metadata": {},
   "outputs": [],
   "source": [
    "from hashlib import sha256\n",
    "%matplotlib inline\n",
    "import matplotlib.pyplot as plt\n",
    "import random \n",
    "difficulty = 2**250\n",
    "x = []\n",
    "\n",
    "for i in range(0,1000):\n",
    "    counter = 0\n",
    "    startingValue = 2**32\n",
    "    startingValue *= random.random() #linear, I think?\n",
    "    startingValue = int(startingValue)\n",
    "    while True:\n",
    "        hashobj = sha256(startingValue.to_bytes(16,'little')) #is sha-256 linear?\n",
    "        val_hex = hashobj.hexdigest()\n",
    "        val_int = int(val_hex, 16)\n",
    "        if( val_int < difficulty):\n",
    "            break    \n",
    "        counter += 1\n",
    "        startingValue += 1\n",
    "    x.append(counter)\n",
    "    \n",
    "#plot a historgram of number of attempts for each case\n",
    "num_bins = 5\n",
    "n, bins, patches = plt.hist(x, num_bins, facecolor='blue', alpha=0.5)\n",
    "plt.show()\n",
    "\n",
    "\n",
    "\n",
    "    "
   ]
  },
  {
   "cell_type": "markdown",
   "id": "developing-simon",
   "metadata": {},
   "source": [
    "You can see from this plot that most of the attempts took between 0 and 100 tries to find a valid nonce, but some took much longer.  The current difficulty is around $2^{180}$, or around one sextillion times more difficult than what we just attempted.  It takes all the Bitcoin miners, in all the world approximately 10 minutes to find the correct nonce."
   ]
  }
 ],
 "metadata": {
  "kernelspec": {
   "display_name": "Python 3",
   "language": "python",
   "name": "python3"
  },
  "language_info": {
   "codemirror_mode": {
    "name": "ipython",
    "version": 3
   },
   "file_extension": ".py",
   "mimetype": "text/x-python",
   "name": "python",
   "nbconvert_exporter": "python",
   "pygments_lexer": "ipython3",
   "version": "3.9.1"
  }
 },
 "nbformat": 4,
 "nbformat_minor": 5
}
