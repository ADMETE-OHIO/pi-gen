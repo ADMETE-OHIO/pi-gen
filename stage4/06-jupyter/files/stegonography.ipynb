{
 "cells": [
  {
   "cell_type": "markdown",
   "id": "level-pride",
   "metadata": {},
   "source": [
    "Digital Steganography is method of hiding secret messages inside pictures.  Let's start with a random image.  Run the next code sample to display the image."
   ]
  },
  {
   "cell_type": "code",
   "execution_count": null,
   "id": "distinct-service",
   "metadata": {},
   "outputs": [],
   "source": [
    "from PIL import Image\n",
    "im = Image.open(\"puppy.jpg\")\n",
    "display(im)"
   ]
  },
  {
   "cell_type": "markdown",
   "id": "adjacent-constitutional",
   "metadata": {},
   "source": [
    "We are going to hide a secret message in this image, by replacing the least significant bit of the red channel of each pixel with one bit from our message.  This image is 800 pixels by 600 pixels, so you could store a message up to 480,000 characters long with this method, about 6x the length of _Macbeth_.  Run the next code sample to embed a message in the photo."
   ]
  },
  {
   "cell_type": "code",
   "execution_count": null,
   "id": "resistant-particle",
   "metadata": {},
   "outputs": [],
   "source": [
    "from PIL import Image\n",
    "im = Image.open(\"puppy.jpg\")\n",
    "SecretMessage=\"This is a secret message.  Good job finding it.\"\n",
    "\n",
    "my_str_as_bytes = str.encode(SecretMessage)\n",
    "\n",
    "widthCounter = 32;\n",
    "heightCounter = 0;\n",
    "pix=im.load()\n",
    "#first 8 contain the length\n",
    "length = len(my_str_as_bytes)\n",
    "#assumes the picture is at least 32 pixels wide\n",
    "for i in range(0,32):\n",
    "    oldValue = pix[0,i][0]\n",
    "    newValue = oldValue\n",
    "    if( (length & (1 << i)) != 0 ):#bit is 1\n",
    "          newValue = newValue | 1\n",
    "    else:#bit is 0\n",
    "            newValue = newValue & ~1\n",
    "    pix[0,i] = (newValue,pix[0,i][1],pix[0,i][2])\n",
    "    \n",
    "for i in range(0,len(my_str_as_bytes)*8):#8 bits in a byte\n",
    "    oldValue = pix[heightCounter,widthCounter][0]\n",
    "    newValue = oldValue\n",
    "    if( (my_str_as_bytes[i//8] & (1 << (i%8))) != 0):\n",
    "        newValue = newValue | 1\n",
    "    else:#bit is 0\n",
    "            newValue = newValue & ~(1)\n",
    "    pix[heightCounter,widthCounter] = (newValue,pix[heightCounter,widthCounter][1],pix[heightCounter,widthCounter][2])\n",
    "    widthCounter += 1\n",
    "    if(widthCounter == im.width):\n",
    "             widthCounter=0\n",
    "             heightCounter += 1\n",
    "                \n",
    "im.save('out.bmp')\n",
    "im2 = Image.open(\"out.bmp\")\n",
    "display(im2)\n",
    "\n"
   ]
  },
  {
   "cell_type": "markdown",
   "id": "mysterious-minimum",
   "metadata": {},
   "source": [
    "This new image has your secret message hidden in it.  I bet you can't tell by looking at it.  You can change the SecretMessage in the previous code sample to hide a new message.  Run the next code sample to extract your hidden message."
   ]
  },
  {
   "cell_type": "code",
   "execution_count": null,
   "id": "known-price",
   "metadata": {},
   "outputs": [],
   "source": [
    "from PIL import Image\n",
    "im = Image.open(\"out.bmp\")\n",
    "\n",
    "pix = im.load()\n",
    "\n",
    "length = 0\n",
    "for i in range(0,32):\n",
    "    length = length | ((pix[0,i][0] & 1) << i)\n",
    "    \n",
    "widthCounter = 32\n",
    "heightCounter = 0\n",
    "my_str_as_bytes = bytearray()\n",
    "for i in range(0,length):#8 bits in a byte\n",
    "    character = 0\n",
    "    for j in range(0,8):\n",
    "        character = character | ((pix[heightCounter,widthCounter][0] & 1) << j)\n",
    "        widthCounter = widthCounter + 1\n",
    "        if(widthCounter == im.width):\n",
    "            heightCounter = heightCounter + 1\n",
    "    my_str_as_bytes.append(character)\n",
    "        \n",
    "my_decoded_str = my_str_as_bytes.decode()\n",
    "print(my_decoded_str)"
   ]
  },
  {
   "cell_type": "markdown",
   "id": "automotive-nudist",
   "metadata": {},
   "source": [
    "If you have a friend that also has this Notebook, send them your picture and see if they can decode your message!"
   ]
  }
 ],
 "metadata": {
  "kernelspec": {
   "display_name": "Python 3",
   "language": "python",
   "name": "python3"
  },
  "language_info": {
   "codemirror_mode": {
    "name": "ipython",
    "version": 3
   },
   "file_extension": ".py",
   "mimetype": "text/x-python",
   "name": "python",
   "nbconvert_exporter": "python",
   "pygments_lexer": "ipython3",
   "version": "3.9.1"
  }
 },
 "nbformat": 4,
 "nbformat_minor": 5
}
