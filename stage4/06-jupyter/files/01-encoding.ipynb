{
 "cells": [
  {
   "cell_type": "markdown",
   "metadata": {
    "collapsed": true,
    "pycharm": {
     "name": "#%% md\n"
    }
   },
   "source": [
    "# Digital representation of data\n",
    "\n",
    "Real world data such as pictures and music in the analog world can be represented digitally for computers to use and process. In this tutorial you will see how data can be represented in a variety of commonly used formats in computer science and programming. You will also learn about some basic Python functions designed to manipulate these representations, as well as a specialized library called BitVector.\n",
    "\n",
    "\n",
    "## How to run this (and other) Jupyter Notebooks?\n",
    "\n",
    "You can start by clicking \"Run\" in the top toolbar to step through and execute each block of text and code. While the text blocks will not have any outputs, the code blocks will very likely display an output right below the block. To run any block out of sequence, first click anywhere in the block, then click Run at the top toolbar, or simply hit Ctrl+Enter.\n",
    "\n",
    "## Decimal, binary and hex representation of numbers\n",
    "Computers use the binary system, usually consisting of two symbols `1` and `0`, to represent data. This is nothing but the base-2 system, just like we use the base-10 system in everyday life. Internally, these two symbols are mapped to physical quantities such as two voltage levels +5 volts/-5 volts, or the presence/absence of a magnetic field, in order for a computer to process the data. Let us see how binary representation works, for the decimal number 5. In python, to get the binary representation of the number 5, use the `bin` function:"
   ]
  },
  {
   "cell_type": "code",
   "execution_count": null,
   "metadata": {
    "pycharm": {
     "name": "#%%\n"
    }
   },
   "outputs": [],
   "source": [
    "bin(5)"
   ]
  },
  {
   "cell_type": "markdown",
   "metadata": {
    "pycharm": {
     "name": "#%% md\n"
    }
   },
   "source": [
    "We see that the ouput is `0b101`. The first two digits, `0` and lowercase `b` indicate that what follows is to be read in base-2 notation. The next three digits, `101` are the base-2 representation of the decimal number 5.\n",
    "\n",
    "However, for large numbers, the binary representation can be very long and hard to manage. For example:"
   ]
  },
  {
   "cell_type": "code",
   "execution_count": null,
   "metadata": {
    "pycharm": {
     "name": "#%%\n"
    }
   },
   "outputs": [],
   "source": [
    "bin(65535)"
   ]
  },
  {
   "cell_type": "markdown",
   "metadata": {},
   "source": [
    "This is why we use the *hexadecimal* (base-16) representation to help manage large numbers. In hex, we use 16 symbols: `0 1 2 3 4 5 6 7 8 9 A B C D E F`, just like the decimal system uses ten symbols (0-10) and the binary system uses two (0 and 1). The same number is compactly represented in hex using just four hex digits:"
   ]
  },
  {
   "cell_type": "code",
   "execution_count": null,
   "metadata": {
    "pycharm": {
     "name": "#%%\n"
    }
   },
   "outputs": [],
   "source": [
    "hex(65535)"
   ]
  },
  {
   "cell_type": "markdown",
   "metadata": {},
   "source": [
    "We see that the hex representation starts with `0x`, followed by four symbols in the base-16 system: `ffff`. It is very important to keep an eye on the prefix, since the same set of symbols can represent different numbers in different systems. For example, take the set of digits `1000` which we typically read as one thousand in the decimal system. However, their value is different in binary and hex systems!"
   ]
  },
  {
   "cell_type": "code",
   "execution_count": null,
   "metadata": {
    "pycharm": {
     "name": "#%%\n"
    }
   },
   "outputs": [],
   "source": [
    "int(0b1000)"
   ]
  },
  {
   "cell_type": "code",
   "execution_count": null,
   "metadata": {
    "pycharm": {
     "name": "#%%\n"
    }
   },
   "outputs": [],
   "source": [
    "int(0x1000)"
   ]
  },
  {
   "cell_type": "markdown",
   "metadata": {
    "pycharm": {
     "name": "#%% md\n"
    }
   },
   "source": [
    "In fact `1000` in base-2 is `8` in decimal, and `4096` in base-16! This is why it is important to write down the prefix; when there is no prefix it is automatically assumed to be the decimal representation.\n",
    "\n",
    "We can convert between the hex and binary systems easily. Since 16 is a power of 2 (2^4=16), each hex digit can be represented using four bits. Let's see how:"
   ]
  },
  {
   "cell_type": "code",
   "execution_count": null,
   "metadata": {
    "pycharm": {
     "name": "#%%\n"
    }
   },
   "outputs": [],
   "source": [
    "for i in range(16):\n",
    "    print(\"Decimal \", i, \" is \", hex(i), \"in hex and \", bin(i), \"in binary\")"
   ]
  },
  {
   "cell_type": "markdown",
   "metadata": {},
   "source": [
    "We see that `0xf` is `0b1111` in binary, which is 4 bits long. Since one byte is eight bits long, we can fit two hex digits in a 8 bits - all we have to do is write them side by side! This trick does not work in decimal though, so beware."
   ]
  },
  {
   "cell_type": "code",
   "execution_count": null,
   "metadata": {
    "pycharm": {
     "name": "#%%\n"
    }
   },
   "outputs": [],
   "source": [
    "for i in {0x8, 0xb, 0x8b}:\n",
    "    print(\"Hex \", hex(i), \"is \", bin(i), \"in binary\")"
   ]
  },
  {
   "cell_type": "markdown",
   "metadata": {},
   "source": [
    "We see that `0x8b` is simply the concatenation of the representation of `0x8` and `0xb`!\n",
    "\n",
    "## ASCII representation of alphabets and other symbols\n",
    "We know how to represent numbers in binary and hex systems. But what about letters such as `k` and symbols such as `&`? How does a computer represent those internally? The answer is through the use of an *encoding scheme* such as ASCII (American Standard Code for Information Interchange) which uses nearly one byte (seven bits) to represent each symbol in the ASCII table. Here's the table for reference:\n",
    "\n",
    "![ASCII table](1000px-ASCII-Table.svg.png)\n",
    "\n",
    "Recently, other encoding schemes such as Unicode have become more common. The UTF-8 Unicode format extends ASCII to use one to four bytes to represent many more symbols. We can represent emojis - 😂 has a hex representation of `0xF09F9882`! That's eight hex digits, which equals four bytes.\n",
    "\n",
    "How do we convert a word or a sentence into ASCII? Simple. We just convert each letter or character to ASCII, and simply concatenate them. Note that a space ` ` and punctuation such as `;` have their own ASCII representation."
   ]
  },
  {
   "cell_type": "code",
   "execution_count": null,
   "metadata": {
    "pycharm": {
     "name": "#%%\n"
    }
   },
   "outputs": [],
   "source": [
    "my_str = 'cat;'\n",
    "for i in my_str:\n",
    "    print(\"ASCII representation of \", i, \" is \", hex(ord(i)))\n",
    "print(\"ASCII representation of \", my_str, \" is \", ' '.join(hex(ord(c)) for c in my_str))"
   ]
  },
  {
   "cell_type": "markdown",
   "metadata": {},
   "source": [
    "## The BitVector class\n",
    "\n",
    "For convenience, we will use the BitVector class to manipulate ASCII, binary and hex representation. This will be very useful in other exercises such as the notebook on the One Time Pad (OTP) cipher. Let's take an ASCII text string and print its encoding in binary:"
   ]
  },
  {
   "cell_type": "code",
   "execution_count": null,
   "metadata": {
    "pycharm": {
     "name": "#%%\n"
    }
   },
   "outputs": [],
   "source": [
    "import BitVector\n",
    "\n",
    "bv = BitVector.BitVector(textstring=\"cat;\")\n",
    "print(bv) # prints in binary without prefix"
   ]
  },
  {
   "cell_type": "markdown",
   "metadata": {},
   "source": [
    "Instead of binary, we can also print it as a string of hex digits (`0` through `f`), which is much more compact, and preferred in most programming environments."
   ]
  },
  {
   "cell_type": "code",
   "execution_count": null,
   "metadata": {
    "pycharm": {
     "name": "#%%\n"
    }
   },
   "outputs": [],
   "source": [
    "print(bv.get_hex_string_from_bitvector()) # prints in hex without prefix"
   ]
  },
  {
   "cell_type": "markdown",
   "metadata": {},
   "source": [
    "Frequently, you may need to visualize a hex string. Don't worry! BitVector allows you to convert hex strings to ASCII very easily:"
   ]
  },
  {
   "cell_type": "code",
   "execution_count": null,
   "metadata": {
    "pycharm": {
     "name": "#%%\n"
    }
   },
   "outputs": [],
   "source": [
    "bv1 = BitVector.BitVector(hexstring=\"6361743b\")\n",
    "print(bv1.get_bitvector_in_ascii())"
   ]
  },
  {
   "cell_type": "markdown",
   "metadata": {},
   "source": [
    "This concludes the BitVector tutorial. Feel free to edit and run any of the code blocks above.\n"
   ]
  }
 ],
 "metadata": {
  "kernelspec": {
   "display_name": "Python 3",
   "language": "python",
   "name": "python3"
  },
  "language_info": {
   "codemirror_mode": {
    "name": "ipython",
    "version": 3
   },
   "file_extension": ".py",
   "mimetype": "text/x-python",
   "name": "python",
   "nbconvert_exporter": "python",
   "pygments_lexer": "ipython3",
   "version": "3.6.8"
  }
 },
 "nbformat": 4,
 "nbformat_minor": 1
}